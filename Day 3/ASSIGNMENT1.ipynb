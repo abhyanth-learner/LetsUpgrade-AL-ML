{
 "cells": [
  {
   "cell_type": "markdown",
   "metadata": {},
   "source": [
    "# QUESTION NUMBER 1\n"
   ]
  },
  {
   "cell_type": "code",
   "execution_count": 5,
   "metadata": {},
   "outputs": [
    {
     "name": "stdout",
     "output_type": "stream",
     "text": [
      "The answer is : (-1-1j)\n"
     ]
    }
   ],
   "source": [
    "a=3+4j\n",
    "b=4+5j\n",
    "c=a-b\n",
    "print(\"The answer is :\",c)"
   ]
  },
  {
   "cell_type": "markdown",
   "metadata": {},
   "source": [
    "# QUESTION NUMBER 2"
   ]
  },
  {
   "cell_type": "code",
   "execution_count": 12,
   "metadata": {},
   "outputs": [
    {
     "name": "stdout",
     "output_type": "stream",
     "text": [
      "The 4th root of 81 is: 3\n"
     ]
    }
   ],
   "source": [
    "d=81\n",
    "e=d**0.25\n",
    "print(\"The 4th root of 20 is:\",e)"
   ]
  },
  {
   "cell_type": "markdown",
   "metadata": {},
   "source": [
    "# QUESTION NUMBER 3"
   ]
  },
  {
   "cell_type": "code",
   "execution_count": 23,
   "metadata": {},
   "outputs": [
    {
     "name": "stdout",
     "output_type": "stream",
     "text": [
      "The number before swapping F= 12 G= 13\n",
      "the number after swapping F= 13 G= 12\n"
     ]
    }
   ],
   "source": [
    "f=12\n",
    "g=13\n",
    "print(\"The number before swapping F=\",f,\"G=\",g)\n",
    "h=f\n",
    "f=g\n",
    "g=h\n",
    "print(\"the number after swapping F=\",f,\"G=\",g)"
   ]
  },
  {
   "cell_type": "markdown",
   "metadata": {},
   "source": [
    "# QUESTION NUMBER 4"
   ]
  },
  {
   "cell_type": "code",
   "execution_count": 26,
   "metadata": {},
   "outputs": [
    {
     "name": "stdout",
     "output_type": "stream",
     "text": [
      "The number before swapping F= 12 G= 13\n",
      "the number after swapping F= 13 G= 12\n",
      "The number before swapping(bitwise) F= 12 G= 13\n",
      "the number after swapping F= 13 G= 12\n"
     ]
    }
   ],
   "source": [
    "f=12\n",
    "g=13\n",
    "print(\"The number before swapping F=\",f,\"G=\",g)\n",
    "f=f+g\n",
    "g=f-g\n",
    "f=f-g\n",
    "print(\"the number after swapping F=\",f,\"G=\",g)\n",
    "\n",
    "\n",
    "#using bitwise operator\n",
    "f=12\n",
    "g=13\n",
    "print(\"The number before swapping(bitwise) F=\",f,\"G=\",g)\n",
    "f=f^g\n",
    "g=f^g\n",
    "f=f^g\n",
    "print(\"the number after swapping F=\",f,\"G=\",g)\n"
   ]
  },
  {
   "cell_type": "markdown",
   "metadata": {},
   "source": [
    "# QUESTION NUMBER 5"
   ]
  },
  {
   "cell_type": "code",
   "execution_count": 29,
   "metadata": {},
   "outputs": [
    {
     "name": "stdout",
     "output_type": "stream",
     "text": [
      "The temperature in celsius is: 36.666666666666664\n",
      "The temperature in  is: 309.81666666666666\n"
     ]
    }
   ],
   "source": [
    "fahrenhiet=98\n",
    "celsius=(((fahrenhiet) - 32)*5)/9\n",
    "print(\"The temperature in celsius is:\",celsius)\n",
    "kelvin=((((fahrenhiet) - 32)*5)/9)+273.15\n",
    "print(\"The temperature in  is:\",kelvin)\n"
   ]
  },
  {
   "cell_type": "code",
   "execution_count": 44,
   "metadata": {},
   "outputs": [
    {
     "name": "stdout",
     "output_type": "stream",
     "text": [
      "<class 'int'> <class 'float'> <class 'complex'> <class 'str'> <class 'list'> <class 'tuple'>\n"
     ]
    }
   ],
   "source": [
    "i=32\n",
    "f=4.53672819287364729203946732528493926325482092974527294093735\n",
    "c=3+4j\n",
    "s=\"whoohooo\"\n",
    "l=[1,2,3]\n",
    "t=(1,2,3,4)\n",
    "a=type(i)\n",
    "b=type(f)\n",
    "c=type(c)\n",
    "d=type(s)\n",
    "e=type(l)\n",
    "f=type(t)\n",
    "print(a,b,c,d,e,f)\n"
   ]
  },
  {
   "cell_type": "markdown",
   "metadata": {},
   "source": [
    "# QUESTION NUMBER 7"
   ]
  },
  {
   "cell_type": "markdown",
   "metadata": {},
   "source": [
    "# STEPS TO CREATE GITHUB PROFILE\n",
    "\n",
    "### STEP 1:\n",
    " GO TO THE GITHUB WEBSITE OR DOWNLOAD THE  APP\n",
    " \n",
    "### STEP 2:\n",
    " LOG-IN OR SIGN-UP \n",
    " \n",
    "### STEP 3:\n",
    " CREATE A  PUBLIC REPOSITORY DRAG AND DROP THE .IPYNB FILE TO THAT REPOSITORY COMMIT THE CHANGES \n",
    " "
   ]
  },
  {
   "cell_type": "code",
   "execution_count": null,
   "metadata": {},
   "outputs": [],
   "source": []
  }
 ],
 "metadata": {
  "kernelspec": {
   "display_name": "Python 3",
   "language": "python",
   "name": "python3"
  },
  "language_info": {
   "codemirror_mode": {
    "name": "ipython",
    "version": 3
   },
   "file_extension": ".py",
   "mimetype": "text/x-python",
   "name": "python",
   "nbconvert_exporter": "python",
   "pygments_lexer": "ipython3",
   "version": "3.7.6"
  }
 },
 "nbformat": 4,
 "nbformat_minor": 4
}
