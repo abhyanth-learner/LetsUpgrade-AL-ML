{
 "cells": [
  {
   "cell_type": "markdown",
   "metadata": {},
   "source": [
    "# QUESTION NUMBER  2"
   ]
  },
  {
   "cell_type": "code",
   "execution_count": 26,
   "metadata": {},
   "outputs": [],
   "source": [
    "stri1=\"H\\te\\tLlo_wo\\tr\\tLd_whAts_up\"\n",
    "stri=\"HeLlo_worLd_whAts_up\"\n",
    "stri3=\"                                                                    HeLlo_worLd_whAts_up\"\n",
    "stri2=\"HeLlo_worLd_whAts_{}\"\n",
    "stri4=\"HeLlo hai ssup worLd and side \"\n",
    "bri=[\"hello\",\"hai\",\"deploy\"]"
   ]
  },
  {
   "cell_type": "code",
   "execution_count": 27,
   "metadata": {
    "scrolled": true
   },
   "outputs": [
    {
     "name": "stdout",
     "output_type": "stream",
     "text": [
      "makes every first word an uppercase letter  HeLlo_worLd_whAts_up\n",
      "makes every letter lowercase HeLlo_worLd_whAts_up\n",
      "gives that many spaces and fills it up with that character by defaultspacebar HeLlo_worLd_whAts_up\n",
      "counts the number of character given as input HeLlo_worLd_whAts_up\n",
      "returns true if the string ends with that value HeLlo_worLd_whAts_up\n",
      "gives the size of the tab H\te\tLlo_wo\tr\tLd_whAts_up\n",
      "gives the index value of that input returns -1 if not found HeLlo_worLd_whAts_up\n",
      "used to format that particular point HeLlo_worLd_whAts_{}\n",
      "gives the index value of those characters (value,start,stop)we can even give the interval for finding that letter HeLlo_worLd_whAts_up\n",
      "returns true if all the character are alphanumeric HeLlo_worLd_whAts_up\n",
      "returns true if all the character are alphabet HeLlo_worLd_whAts_up\n",
      "returns true if all are ascii values HeLlo_worLd_whAts_up\n",
      "returns true if all the character are decimals HeLlo_worLd_whAts_up\n",
      "returns true if all the character are digits HeLlo_worLd_whAts_up\n",
      "returns true if all the character are digits HeLlo_worLd_whAts_up\n",
      "returns true if all the character are in lowercase HeLlo_worLd_whAts_up\n",
      "returns true if all the character are in lowercase HeLlo_worLd_whAts_up\n",
      "returns true if all the character are white spaces HeLlo_worLd_whAts_up\n",
      "returns true if all the character are starting with caps and rest all are lowercase HeLlo_worLd_whAts_up\n",
      "used to add stri after each element of list/tuple/dict(only for keys) HeLlo_worLd_whAts_up\n",
      "returns left justified version of string HeLlo_worLd_whAts_up\n",
      "returns all lowercases HeLlo_worLd_whAts_up\n",
      "removes all the left spaces                                                                      HeLlo_worLd_whAts_up\n",
      "divedes into 3 words for each eement b4 the word HeLlo hai ssup worLd and side \n",
      " HeLlo_worLd_whAts_hai\n",
      "gives the index of that word HeLlo_worLd_whAts_up\n",
      "right justified version HeLlo_worLd_whAts_up\n",
      " HeLlo_worLd_whAts_up\n",
      "splits bases on the input splitlines:split wen it encounters \n",
      " HeLlo_worLd_whAts_up\n",
      "TRUE IF STRING STARTS WITH THAT INPUT HeLlo_worLd_whAts_up\n",
      "removes all the trailing ald leading spaces HeLlo_worLd_whAts_up\n",
      "swaps the cases HeLlo_worLd_whAts_up\n",
      "coverts it into a title HeLlo_worLd_whAts_up\n",
      "converts all into uppercase HeLlo_worLd_whAts_up\n",
      "adds 0s till the length of the string becomes the input HeLlo_worLd_whAts_up\n"
     ]
    }
   ],
   "source": [
    "stri.capitalize()#makes every first word an uppercase letter\n",
    "print(\"makes every first word an uppercase letter \"   ,   stri)\n",
    "\n",
    "stri.casefold()#makes every letter lowercase\n",
    "print(\"makes every letter lowercase\",stri)\n",
    "\n",
    "stri.center(40,\"-\")#gives that many spaces and fills it up with that character by defaultspacebar\n",
    "print(\"gives that many spaces and fills it up with that character by defaultspacebar\",stri)\n",
    "\n",
    "stri.count(\"o\")#counts the number of character given as input\n",
    "print(\"counts the number of character given as input\",stri)\n",
    "\n",
    "stri.endswith(\"s\")#returns true if the string ends with that value\n",
    "print(\"returns true if the string ends with that value\",stri)\n",
    "stri1.expandtabs(20)#gives the size of the tab\n",
    "print(\"gives the size of the tab\",stri1)\n",
    "stri.find(\"z\")#gives the index value of that input returns -1 if not found\n",
    "print(\"gives the index value of that input returns -1 if not found\",stri)\n",
    "stri2.format(\"down\")#used to format that particular point\n",
    "print(\"used to format that particular point\",stri2)\n",
    "stri.index(\"h\")#gives the index value of those characters (value,start,stop)we can even give the interval for finding that letter\n",
    "print(\"gives the index value of those characters (value,start,stop)we can even give the interval for finding that letter\",stri)\n",
    "stri.isalnum()#returns true if all the character are alphanumeric\n",
    "print(\"returns true if all the character are alphanumeric\",stri)\n",
    "stri.isalpha()#returns true if all the character are alphabet\n",
    "print(\"returns true if all the character are alphabet\",stri)\n",
    "stri.isascii()#returns true if all are ascii values\n",
    "print(\"returns true if all are ascii values\",stri)\n",
    "stri.isdecimal()#returns true if all the character are decimals\n",
    "print(\"returns true if all the character are decimals\",stri)\n",
    "stri.isdigit()#returns true if all the character are digits\n",
    "print(\"returns true if all the character are digits\",stri)\n",
    "stri.isidentifier()#returns true if all the character are are alphabets numbers and underscores\n",
    "print(\"returns true if all the character are digits\",stri)\n",
    "stri.islower()#returns true if all the character are in lowercase\n",
    "print(\"returns true if all the character are in lowercase\",stri)\n",
    "stri.isprintable()#returns true if all the character are printable\n",
    "print(\"returns true if all the character are in lowercase\",stri)\n",
    "stri.isspace()#returns true if all the character are white spaces\n",
    "print(\"returns true if all the character are white spaces\",stri)\n",
    "stri.istitle()#returns true if all the character are starting with caps and rest all are lowercase\n",
    "print(\"returns true if all the character are starting with caps and rest all are lowercase\",stri)\n",
    "stri.join(bri)#used to add stri after each element of list/tuple/dict(only for keys)\n",
    "print(\"used to add stri after each element of list/tuple/dict(only for keys)\",stri)\n",
    "stri.ljust(200)#returns left justified version of string\n",
    "print(\"returns left justified version of string\",stri)\n",
    "stri.lower()#returns all lowercases\n",
    "print(\"returns all lowercases\",stri)\n",
    "stri3.lstrip()#removes all the left spaces \n",
    "print(\"removes all the left spaces \",stri3)\n",
    "stri4.partition(\"world\")#divedes into 3 words for each eement b4 the word\n",
    "print(\"divedes into 3 words for each eement b4 the word\",stri4)\n",
    "x=stri.replace(\"up\",\"hai\")\n",
    "print(\"\",x)\n",
    "stri.rfind(\"up\")#gives the index of that word\n",
    "print(\"gives the index of that word\",stri)\n",
    "stri.rjust(40)#right justified version\n",
    "print(\"right justified version\",stri)\n",
    "stri.rpartition(\"world\")\n",
    "print(\"\",stri)\n",
    "stri.split()#splits bases on the input splitlines:split wen it encounters \\n\n",
    "print(\"splits bases on the input splitlines:split wen it encounters \\n\",stri)\n",
    "stri.startswith(\"H\")#TRUE IF STRING STARTS WITH THAT INPUT\n",
    "print(\"TRUE IF STRING STARTS WITH THAT INPUT\",stri)\n",
    "stri.strip()#removes all the trailing ald leading spaces\n",
    "print(\"removes all the trailing ald leading spaces\",stri)\n",
    "stri.swapcase()#swaps the cases\n",
    "print(\"swaps the cases\",stri)\n",
    "stri.title()#coverts it into a title\n",
    "print(\"coverts it into a title\",stri)\n",
    "stri.upper()#converts all into uppercase\n",
    "print(\"converts all into uppercase\",stri)\n",
    "stri.zfill(40)#adds 0s till the length of the string becomes the input\n",
    "print(\"adds 0s till the length of the string becomes the input\",stri)\n",
    "\n",
    "\n"
   ]
  },
  {
   "cell_type": "markdown",
   "metadata": {},
   "source": [
    "# QUESTION NUMBER 1"
   ]
  },
  {
   "cell_type": "code",
   "execution_count": 19,
   "metadata": {},
   "outputs": [
    {
     "name": "stdout",
     "output_type": "stream",
     "text": [
      "1\n",
      "3\n",
      "5\n",
      "7\n",
      "11\n",
      "13\n",
      "17\n",
      "19\n",
      "23\n",
      "29\n",
      "31\n",
      "37\n",
      "41\n",
      "43\n",
      "47\n",
      "53\n",
      "59\n",
      "61\n",
      "67\n",
      "71\n"
     ]
    }
   ],
   "source": [
    "import math as m\n",
    "count=0\n",
    "for i in range(1,100):\n",
    "    t=0\n",
    "    for j in range(2,m.ceil(i/2)+1):\n",
    "        if(i%j==0):\n",
    "            t=t+1\n",
    "            break;\n",
    "    if(i==2):\n",
    "        continue\n",
    "    elif(t==0 and count<20):\n",
    "        print(i)\n",
    "        count=count+1\n",
    "            \n",
    "\n",
    "    \n",
    "    "
   ]
  },
  {
   "cell_type": "markdown",
   "metadata": {},
   "source": [
    "# QUESTION NUMBER 3"
   ]
  },
  {
   "cell_type": "code",
   "execution_count": 31,
   "metadata": {
    "code_folding": []
   },
   "outputs": [
    {
     "name": "stdout",
     "output_type": "stream",
     "text": [
      "ENTER THE FIRST STRING:  malayalam\n",
      "ENTER THE SECOND STRING: malayalam\n",
      "THEY ARE PALINDROME\n",
      "THEY ARE ANAGRAM\n"
     ]
    }
   ],
   "source": [
    "s1=input(\"ENTER THE FIRST STRING:  \")\n",
    "s1=s1.lower()\n",
    "s2=input(\"ENTER THE SECOND STRING: \")\n",
    "s2=s2.lower()\n",
    "l1=list(s1)\n",
    "l2=list(s2)\n",
    "if(l1[:]==l1[::-1] and l2[:]==l2[::-1]):\n",
    "    print(\"THEY ARE PALINDROME\")\n",
    "if(l1.sort()==l2.sort()):\n",
    "    print(\"THEY ARE ANAGRAM\")\n",
    "else:\n",
    "    print(\"THEY ARE NEITHER PALINDROME NOR ANAGRAM\")\n",
    "\n",
    "\n",
    "    "
   ]
  },
  {
   "cell_type": "markdown",
   "metadata": {},
   "source": [
    "# QUESTION NUMBER 4"
   ]
  },
  {
   "cell_type": "code",
   "execution_count": 7,
   "metadata": {},
   "outputs": [
    {
     "name": "stdout",
     "output_type": "stream",
     "text": [
      "ENTER THE STRING:  hello@lets_upgrade****how are you:)\n",
      "ANSWER: helloetspgradehowreou\n"
     ]
    }
   ],
   "source": [
    "sen=input(\"ENTER THE STRING:  \")\n",
    "sen=sen.lower()\n",
    "li=list(sen)\n",
    "l2=[]\n",
    "s_final=\"\"\n",
    "for i in li:\n",
    "    if(ord(i)>=97 and ord(i)<=122):\n",
    "        s_final += i\n",
    "    else:\n",
    "        li.remove(i)\n",
    "# for i in l2:\n",
    "#     s_final +=i\n",
    "print(\"ANSWER:\",s_final)\n",
    "        "
   ]
  },
  {
   "cell_type": "code",
   "execution_count": null,
   "metadata": {},
   "outputs": [],
   "source": []
  }
 ],
 "metadata": {
  "kernelspec": {
   "display_name": "Python 3",
   "language": "python",
   "name": "python3"
  },
  "language_info": {
   "codemirror_mode": {
    "name": "ipython",
    "version": 3
   },
   "file_extension": ".py",
   "mimetype": "text/x-python",
   "name": "python",
   "nbconvert_exporter": "python",
   "pygments_lexer": "ipython3",
   "version": "3.7.6"
  },
  "toc": {
   "base_numbering": 1,
   "nav_menu": {},
   "number_sections": true,
   "sideBar": true,
   "skip_h1_title": false,
   "title_cell": "Table of Contents",
   "title_sidebar": "Contents",
   "toc_cell": false,
   "toc_position": {},
   "toc_section_display": true,
   "toc_window_display": false
  }
 },
 "nbformat": 4,
 "nbformat_minor": 4
}
