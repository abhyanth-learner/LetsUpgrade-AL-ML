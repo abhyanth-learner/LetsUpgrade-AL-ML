{
 "cells": [
  {
   "cell_type": "markdown",
   "metadata": {},
   "source": [
    "# 1. Create a 3x3x3 array with random values "
   ]
  },
  {
   "cell_type": "code",
   "execution_count": 1,
   "metadata": {},
   "outputs": [
    {
     "name": "stdout",
     "output_type": "stream",
     "text": [
      "[[[0.21961698 0.38315132 0.9232932 ]\n",
      "  [0.56893676 0.26437041 0.52776674]\n",
      "  [0.25237743 0.14805223 0.16863334]]\n",
      "\n",
      " [[0.72232133 0.77804948 0.88459999]\n",
      "  [0.85015608 0.97126779 0.22349589]\n",
      "  [0.41989713 0.76093481 0.05348865]]\n",
      "\n",
      " [[0.5902759  0.41473058 0.97217689]\n",
      "  [0.16000516 0.0838167  0.53038508]\n",
      "  [0.23408253 0.5583855  0.18800439]]]\n"
     ]
    }
   ],
   "source": [
    "from numpy import  array as ar\n",
    "import numpy as np\n",
    "import random\n",
    "z=np.random.rand(3,3,3) \n",
    "print(z)\n",
    "\n"
   ]
  },
  {
   "cell_type": "markdown",
   "metadata": {},
   "source": [
    "# 2.Create a 5x5 matrix with values 1,2,3,4 just below the diagonal"
   ]
  },
  {
   "cell_type": "code",
   "execution_count": 2,
   "metadata": {},
   "outputs": [
    {
     "data": {
      "text/plain": [
       "array([[0., 0., 0., 0., 0.],\n",
       "       [1., 0., 0., 0., 0.],\n",
       "       [0., 2., 0., 0., 0.],\n",
       "       [0., 0., 3., 0., 0.],\n",
       "       [0., 0., 0., 4., 0.]])"
      ]
     },
     "execution_count": 2,
     "metadata": {},
     "output_type": "execute_result"
    }
   ],
   "source": [
    "ans2=np.zeros((5,5))\n",
    "for i in range(1,5):\n",
    "    ans2[i,i-1]=i\n",
    "ans2"
   ]
  },
  {
   "cell_type": "markdown",
   "metadata": {},
   "source": [
    "# 3.Create a 8x8 matrix and fill it with a checkerboard pattern"
   ]
  },
  {
   "cell_type": "code",
   "execution_count": 3,
   "metadata": {},
   "outputs": [
    {
     "data": {
      "text/plain": [
       "array([[0., 1., 0., 1., 0., 1., 0., 1.],\n",
       "       [1., 0., 1., 0., 1., 0., 1., 0.],\n",
       "       [0., 1., 0., 1., 0., 1., 0., 1.],\n",
       "       [1., 0., 1., 0., 1., 0., 1., 0.],\n",
       "       [0., 1., 0., 1., 0., 1., 0., 1.],\n",
       "       [1., 0., 1., 0., 1., 0., 1., 0.],\n",
       "       [0., 1., 0., 1., 0., 1., 0., 1.],\n",
       "       [1., 0., 1., 0., 1., 0., 1., 0.]])"
      ]
     },
     "execution_count": 3,
     "metadata": {},
     "output_type": "execute_result"
    }
   ],
   "source": [
    "ans3=np.zeros((8,8))\n",
    "ans3[0::2,1::2]=1\n",
    "ans3[1::2,0::2]=1\n",
    "ans3"
   ]
  },
  {
   "cell_type": "markdown",
   "metadata": {},
   "source": [
    "# 4. Normalize a 5x5 random matrix"
   ]
  },
  {
   "cell_type": "code",
   "execution_count": 4,
   "metadata": {},
   "outputs": [
    {
     "name": "stdout",
     "output_type": "stream",
     "text": [
      "[[14.12163623  0.42182796 30.00397352 15.23477585 10.93239224]\n",
      " [20.47488073 22.3954664   5.73803262 24.34149248  5.44012118]\n",
      " [ 5.84181968 20.92909694 21.68401312 23.86428268  3.49510644]\n",
      " [17.18157522 22.91322601 10.31156931  7.18703036 13.46500462]\n",
      " [15.78071637  2.28061062  1.13420333 16.47309012  4.83473409]]\n"
     ]
    }
   ],
   "source": [
    "import math\n",
    "ans4=np.random.rand(5,5)\n",
    "t= np.linalg.det(ans4)\n",
    "d=math.sqrt(math.pow(t,2))\n",
    "ans4=ans4/d\n",
    "print(ans4)"
   ]
  },
  {
   "cell_type": "markdown",
   "metadata": {},
   "source": [
    "# 5.  How to find common values between two arrays?"
   ]
  },
  {
   "cell_type": "code",
   "execution_count": 5,
   "metadata": {},
   "outputs": [
    {
     "name": "stdout",
     "output_type": "stream",
     "text": [
      "The common elements are: [ 2  4  6  7 10]\n"
     ]
    }
   ],
   "source": [
    "a1=ar([[2,3,4],\n",
    "       [5,6,7],\n",
    "      [8,9,10]])\n",
    "a2=ar([[2,35,4],\n",
    "       [10,6,7],\n",
    "      [83,91,10]])\n",
    "inter=np.intersect1d(a1, a2)\n",
    "print(\"The common elements are:\",inter)\n",
    "\n"
   ]
  },
  {
   "cell_type": "markdown",
   "metadata": {},
   "source": [
    "# 6.How to get the dates of yesterday, today and tomorrow?"
   ]
  },
  {
   "cell_type": "code",
   "execution_count": 6,
   "metadata": {},
   "outputs": [
    {
     "name": "stdout",
     "output_type": "stream",
     "text": [
      "Yestraday:  2020-07-26\n",
      "Today:  2020-07-27\n",
      "Tomorrow:  2020-07-28\n"
     ]
    }
   ],
   "source": [
    "yesterday = np.datetime64('today', 'D') - np.timedelta64(1, 'D')\n",
    "print(\"Yestraday: \",yesterday)\n",
    "today     = np.datetime64('today', 'D')\n",
    "print(\"Today: \",today)\n",
    "tomorrow  = np.datetime64('today', 'D') + np.timedelta64(1, 'D')\n",
    "print(\"Tomorrow: \",tomorrow)"
   ]
  },
  {
   "cell_type": "markdown",
   "metadata": {},
   "source": [
    "# 7. Consider two random array A and B, check if they are equal"
   ]
  },
  {
   "cell_type": "code",
   "execution_count": 7,
   "metadata": {},
   "outputs": [
    {
     "data": {
      "text/plain": [
       "array([[ True,  True,  True],\n",
       "       [False,  True,  True],\n",
       "       [ True,  True,  True]])"
      ]
     },
     "execution_count": 7,
     "metadata": {},
     "output_type": "execute_result"
    }
   ],
   "source": [
    "a1=ar([[2,3,4],\n",
    "       [5,6,7],\n",
    "      [8,9,10]])\n",
    "a2=ar([[2,3,4],\n",
    "       [50,6,7],\n",
    "      [8,9,10]])\n",
    "z=a1==a2\n",
    "z"
   ]
  },
  {
   "cell_type": "markdown",
   "metadata": {},
   "source": [
    "# 8.Create random vector of size 10 and replace the maximum value by 0 "
   ]
  },
  {
   "cell_type": "code",
   "execution_count": 8,
   "metadata": {},
   "outputs": [
    {
     "name": "stdout",
     "output_type": "stream",
     "text": [
      "0.736980082400804\n"
     ]
    },
    {
     "data": {
      "text/plain": [
       "array([0.        , 0.49538387, 0.10238827, 0.39149009, 0.6662653 ,\n",
       "       0.41220595, 0.45442471, 0.49665765, 0.61036831, 0.26340846])"
      ]
     },
     "execution_count": 8,
     "metadata": {},
     "output_type": "execute_result"
    }
   ],
   "source": [
    "z=np.random.rand(10)\n",
    "m=max(z)\n",
    "print(m)\n",
    "for i in range(0,10):\n",
    "    if(z[i]==m):\n",
    "        z[i]=0\n",
    "z"
   ]
  },
  {
   "cell_type": "markdown",
   "metadata": {},
   "source": [
    "# 9. How to print all the values of an array?"
   ]
  },
  {
   "cell_type": "code",
   "execution_count": 9,
   "metadata": {},
   "outputs": [
    {
     "name": "stdout",
     "output_type": "stream",
     "text": [
      "value at 0 0 is 2\n",
      "value at 0 1 is 3\n",
      "value at 0 2 is 4\n",
      "value at 1 0 is 5\n",
      "value at 1 1 is 6\n",
      "value at 1 2 is 7\n",
      "value at 2 0 is 8\n",
      "value at 2 1 is 9\n",
      "value at 2 2 is 10\n"
     ]
    }
   ],
   "source": [
    "a1=ar([[2,3,4],\n",
    "       [5,6,7],\n",
    "      [8,9,10]])\n",
    "r=a1.shape[0]\n",
    "c=a1.shape[1]\n",
    "for i in range(0,r):\n",
    "    for j in range(0,c):\n",
    "        print(\"value at\",i,j,\"is\",a1[i][j])\n"
   ]
  },
  {
   "cell_type": "markdown",
   "metadata": {},
   "source": [
    "# 10.Subtract the mean of each row of a matrix"
   ]
  },
  {
   "cell_type": "code",
   "execution_count": 10,
   "metadata": {},
   "outputs": [
    {
     "name": "stdout",
     "output_type": "stream",
     "text": [
      "[3. 6. 9.]\n"
     ]
    },
    {
     "data": {
      "text/plain": [
       "array([[-1., -3., -5.],\n",
       "       [ 2.,  0., -2.],\n",
       "       [ 5.,  3.,  1.]])"
      ]
     },
     "execution_count": 10,
     "metadata": {},
     "output_type": "execute_result"
    }
   ],
   "source": [
    "a1=ar([[2,3,4],\n",
    "       [5,6,7],\n",
    "      [8,9,10]])\n",
    "r=a1.shape[0]\n",
    "c=a1.shape[1]\n",
    "m=a1.mean(axis=1)\n",
    "print(m)\n",
    "a1=a1-m\n",
    "a1"
   ]
  },
  {
   "cell_type": "markdown",
   "metadata": {},
   "source": [
    "# 11.Consider a given vector, how to add 1 to each element indexed by a second vector (be careful with repeated indices)? "
   ]
  },
  {
   "cell_type": "code",
   "execution_count": null,
   "metadata": {},
   "outputs": [],
   "source": []
  },
  {
   "cell_type": "code",
   "execution_count": null,
   "metadata": {},
   "outputs": [],
   "source": []
  },
  {
   "cell_type": "markdown",
   "metadata": {},
   "source": [
    "# 12.How to get the diagonal of a dot product?"
   ]
  },
  {
   "cell_type": "code",
   "execution_count": 11,
   "metadata": {},
   "outputs": [
    {
     "name": "stdout",
     "output_type": "stream",
     "text": [
      "[[186  60  69]\n",
      " [366 114 132]\n",
      " [546 168 195]]\n",
      "the diagonal element is: 186\n",
      "the diagonal element is: 114\n",
      "the diagonal element is: 195\n"
     ]
    }
   ],
   "source": [
    "a1=ar([[2,3,4],\n",
    "       [5,6,7],\n",
    "      [8,9,10]])\n",
    "a2=ar([[2,3,4],\n",
    "       [50,6,7],\n",
    "      [8,9,10]])\n",
    "dot=np.dot(a1,a2)\n",
    "print(dot)\n",
    "for i in range(0,3):\n",
    "    print(\"the diagonal element is:\",dot[i][i])\n",
    "        "
   ]
  },
  {
   "cell_type": "markdown",
   "metadata": {},
   "source": [
    "# 13.How to find the most frequent value in an array?"
   ]
  },
  {
   "cell_type": "code",
   "execution_count": 12,
   "metadata": {},
   "outputs": [
    {
     "name": "stdout",
     "output_type": "stream",
     "text": [
      "the most repeated value is 1\n"
     ]
    }
   ],
   "source": [
    "a1=ar([2,25,2,2,2,2,2,2,2,3,5,6,7,4,3,4,2,4,5,3,3,3,3,3,3,1,1,1,1,1,1,1,1,1,1,1,1,1,1,1,1,1,1,1,1,1,1])\n",
    "r=np.bincount(a1).argmax()\n",
    "print(\"the most repeated value is\",r)\n"
   ]
  },
  {
   "cell_type": "markdown",
   "metadata": {},
   "source": [
    "# 14.How to get the n largest values of an array"
   ]
  },
  {
   "cell_type": "code",
   "execution_count": 28,
   "metadata": {},
   "outputs": [
    {
     "name": "stdout",
     "output_type": "stream",
     "text": [
      "[    1     2     3     4     5     6     7     8     9    34    76   100\n",
      "   256   864   898 46000]\n"
     ]
    }
   ],
   "source": [
    "a10=ar([9,8,7,6,5,3,4,256,100,76,898,864,1,2,34,46000])\n",
    "n=4\n",
    "a11=np.argsort(a10)\n",
    "print (a10[a11])\n"
   ]
  },
  {
   "cell_type": "markdown",
   "metadata": {},
   "source": [
    "# 15.How to create a record array from a regular array?"
   ]
  },
  {
   "cell_type": "code",
   "execution_count": null,
   "metadata": {},
   "outputs": [],
   "source": []
  },
  {
   "cell_type": "code",
   "execution_count": null,
   "metadata": {},
   "outputs": [],
   "source": []
  }
 ],
 "metadata": {
  "kernelspec": {
   "display_name": "Python 3",
   "language": "python",
   "name": "python3"
  },
  "language_info": {
   "codemirror_mode": {
    "name": "ipython",
    "version": 3
   },
   "file_extension": ".py",
   "mimetype": "text/x-python",
   "name": "python",
   "nbconvert_exporter": "python",
   "pygments_lexer": "ipython3",
   "version": "3.7.6"
  }
 },
 "nbformat": 4,
 "nbformat_minor": 2
}
