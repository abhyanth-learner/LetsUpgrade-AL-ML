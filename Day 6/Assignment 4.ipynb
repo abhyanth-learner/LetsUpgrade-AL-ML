{
 "cells": [
  {
   "cell_type": "markdown",
   "metadata": {},
   "source": [
    "# QUESTION NUMBER 1"
   ]
  },
  {
   "cell_type": "code",
   "execution_count": 24,
   "metadata": {},
   "outputs": [
    {
     "name": "stdout",
     "output_type": "stream",
     "text": [
      "Enthe the email id: abhyanth@yahoo.com\n",
      "THE NAME OF THE COMPANY IS:  yahoo\n"
     ]
    }
   ],
   "source": [
    "user=input(\"Enthe the email id: \")\n",
    "a=user.find(\"@\")\n",
    "d=user.find(\".\")\n",
    "ans=user[a+1:d]\n",
    "print(\"THE NAME OF THE COMPANY IS: \",ans)"
   ]
  },
  {
   "cell_type": "markdown",
   "metadata": {},
   "source": [
    "# QUESTION NUMBER 2"
   ]
  },
  {
   "cell_type": "code",
   "execution_count": 23,
   "metadata": {},
   "outputs": [
    {
     "name": "stdout",
     "output_type": "stream",
     "text": [
      "Enter the string: apple,lu,letsupgrade,al,ml,awesome,yeah\n",
      "al,apple,awesome,letsupgrade,lu,ml,yeah,"
     ]
    }
   ],
   "source": [
    "s=input(\"Enter the string: \")\n",
    "l=s.split(\",\")\n",
    "l.sort()\n",
    "for i in l:\n",
    "    print(i,end=\",\")\n"
   ]
  },
  {
   "cell_type": "markdown",
   "metadata": {},
   "source": [
    "# QUESTION NUMBER 3"
   ]
  },
  {
   "cell_type": "code",
   "execution_count": 28,
   "metadata": {},
   "outputs": [
    {
     "name": "stdout",
     "output_type": "stream",
     "text": [
      "{1, 2, 3, 4, 5, 6, 7, 'you', 9, 11, 'how', 'are'}\n",
      "{1, 2, 3, 4, 5, 6, 7, 'you', 9, 11, 'how', 'are'}\n",
      "{16, 17, 18, 19}\n",
      "{1}\n",
      "{1, 2, 3, 4, 5, 6, 7, 'you', 9, 'how', 'are'}\n",
      "{1}\n"
     ]
    }
   ],
   "source": [
    "# sets and its funtions\n",
    "\n",
    "se={\"how\",1,2,3,4,5,\"are\",1,6,7,9,11}#unordered,unindexed collection of data types\n",
    "se\n",
    "bet={20,19,18,17,16,15}\n",
    "het={15,20,1}\n",
    "met={15}\n",
    "\n",
    "se.add(\"you\")#appends the element \n",
    "print(se)\n",
    "\n",
    "sa=se.copy()#copies the set to another variable \n",
    "print(se)\n",
    "\n",
    "\n",
    "print(bet.difference(het))#gives the set of elements which are there in bet but not in het in a new set\n",
    "\n",
    "\n",
    "\n",
    "het.difference_update(bet)#similar to difference but updates het instead of creating a new set\n",
    "print(het)\n",
    "\n",
    "\n",
    "se.discard(11)#throws away that particular element \n",
    "print(se)\n",
    "\n",
    "\n",
    "\n",
    "het.intersection(se)#gives us the common element between the 2 sets\n",
    "het.intersection_update(se)#similar to intersection but updates het\n",
    "print(het)\n",
    "\n",
    "\n",
    "se.isdisjoint(het)#returns true if there is no comon element between the 2 sets else returns false\n",
    "\n",
    "\n",
    "\n",
    "met.issubset(bet)#returns true if met has all the elements present in bet\n",
    "\n",
    "bet.issuperset(met)\n",
    "\n",
    "bet.pop()#pops out random elements from the set\n",
    "\n",
    "bet.remove(16)#removes the element given by us\n",
    "bet\n",
    "\n",
    "bet.symmetric_difference(het)\n",
    "\n",
    "bet.union(se)#combines both the set\n",
    "\n",
    "se.update(het)#adds het to se\n",
    "se\n",
    "\n",
    "se.clear()#cleares everything\n",
    "\n",
    "\n"
   ]
  },
  {
   "cell_type": "markdown",
   "metadata": {},
   "source": [
    "# QUESTION NUMBER 4"
   ]
  },
  {
   "cell_type": "code",
   "execution_count": 41,
   "metadata": {},
   "outputs": [
    {
     "name": "stdout",
     "output_type": "stream",
     "text": [
      "Enter the n value:10\n",
      "Enter the numbers:\n",
      "1\n",
      "2\n",
      "3\n",
      "4\n",
      "5\n",
      "6\n",
      "8\n",
      "9\n",
      "10\n",
      "The list of numbers you have entered are :  [1, 2, 3, 4, 5, 6, 8, 9, 10]\n",
      "The missing number is:  7\n"
     ]
    }
   ],
   "source": [
    "n=int(input(\"Enter the n value:\"))\n",
    "print(\"Enter the numbers:\")\n",
    "li=[]\n",
    "for i in range (0,n-1):\n",
    "    a=int(input())\n",
    "    li.append(a)\n",
    "print(\"The list of numbers you have entered are : \",li)\n",
    "flag=1\n",
    "for i in li:\n",
    "    if(flag!=i):\n",
    "        print(\"The missing number is: \",flag)\n",
    "        break\n",
    "    flag +=1\n",
    "    \n",
    "    \n"
   ]
  },
  {
   "cell_type": "markdown",
   "metadata": {},
   "source": [
    "# QUESTION NUMBER 5"
   ]
  },
  {
   "cell_type": "code",
   "execution_count": 7,
   "metadata": {},
   "outputs": [
    {
     "name": "stdout",
     "output_type": "stream",
     "text": [
      "The list after removing all the duplicate elements is: [122, 13, 12, 1, 2, 3, 4, 5, 170, 10, 11, 15, 111]\n"
     ]
    }
   ],
   "source": [
    "li=[122,13,12,1,2,3,4,5,170,122,122,1,5,10,11,13,15,11,111,111,111,111]\n",
    "ans2=[]\n",
    "for i in li:\n",
    "    if (i not in ans2):\n",
    "        ans2.append(i)\n",
    "print(\"The list after removing all the duplicate elements is:\", ans2)\n",
    "        \n",
    "        "
   ]
  },
  {
   "cell_type": "code",
   "execution_count": null,
   "metadata": {},
   "outputs": [],
   "source": [
    "\n"
   ]
  },
  {
   "cell_type": "code",
   "execution_count": null,
   "metadata": {},
   "outputs": [],
   "source": [
    "\n",
    "\n",
    "\n"
   ]
  }
 ],
 "metadata": {
  "kernelspec": {
   "display_name": "Python 3",
   "language": "python",
   "name": "python3"
  },
  "language_info": {
   "codemirror_mode": {
    "name": "ipython",
    "version": 3
   },
   "file_extension": ".py",
   "mimetype": "text/x-python",
   "name": "python",
   "nbconvert_exporter": "python",
   "pygments_lexer": "ipython3",
   "version": "3.7.6"
  }
 },
 "nbformat": 4,
 "nbformat_minor": 4
}
