{
 "cells": [
  {
   "cell_type": "markdown",
   "metadata": {},
   "source": [
    "# QUESTION NUMBER 1"
   ]
  },
  {
   "cell_type": "code",
   "execution_count": 12,
   "metadata": {},
   "outputs": [
    {
     "name": "stdout",
     "output_type": "stream",
     "text": [
      "ADDITION OF COMPLEX NUMBERS IS POSSIBLE AND THE RESULT IS: (10+12j)\n",
      "\n",
      "SUBTRACTION OF COMPLEX NUMBERS IS POSSIBLE AND THE RESULT IS: (2+2j)\n",
      "\n",
      "MULTIPLICATION OF COMPLEX NUMBERS IS POSSIBLE AND THE RESULT IS: (-11+58j)\n",
      "\n",
      "DIVISION OF COMPLEX NUMBERS IS POSSIBLE AND THE RESULT IS: (1.4390243902439026-0.04878048780487799j)\n"
     ]
    }
   ],
   "source": [
    "c1=6+7j\n",
    "c2=4+5j\n",
    "a=c1+c2\n",
    "s=c1-c2\n",
    "m=c1*c2\n",
    "d=c1/c2\n",
    "print(\"ADDITION OF COMPLEX NUMBERS IS POSSIBLE AND THE RESULT IS:\",a)\n",
    "print()\n",
    "print(\"SUBTRACTION OF COMPLEX NUMBERS IS POSSIBLE AND THE RESULT IS:\",s)\n",
    "print()\n",
    "print(\"MULTIPLICATION OF COMPLEX NUMBERS IS POSSIBLE AND THE RESULT IS:\",m)\n",
    "print()\n",
    "print(\"DIVISION OF COMPLEX NUMBERS IS POSSIBLE AND THE RESULT IS:\",d)\n",
    "\n",
    "\n",
    "# FLOOR DIVISION AND MODUOLO OPERATION IS NOT POSSIBLE USING COMPLEX NUMBERS"
   ]
  },
  {
   "cell_type": "markdown",
   "metadata": {},
   "source": [
    "# QUESTION NUMBER 2"
   ]
  },
  {
   "cell_type": "markdown",
   "metadata": {},
   "source": [
    "## RANGE FUNCTION\n",
    "\n",
    "SYNTAX OF RANGE FUNCTION: range(start,stop,step)\n",
    "\n",
    "   1.start: HERE WE ENTER THE VALUE FROM WHERE IT SHOULD START\n",
    "   \n",
    "   2.stop:  HERE WE ENTER THE VALUE WHERE IT SHOULD STOP(NOTE:THIS STOP VALUE WILL NOT BE INCLUDED)\n",
    "   \n",
    "   3.step   HERE WE ENTER THE INCREMENT VALUE \n",
    "   \n",
    "   \n",
    "RANGE FUNCTION IS MOST OFTEN USED WITH THE FOR LOOP "
   ]
  },
  {
   "cell_type": "markdown",
   "metadata": {},
   "source": [
    "# QUESTION NUMBER 3"
   ]
  },
  {
   "cell_type": "code",
   "execution_count": 25,
   "metadata": {},
   "outputs": [
    {
     "name": "stdout",
     "output_type": "stream",
     "text": [
      "THE RESULT IS AFTER DIVISION 1.3333333333333333 25\n"
     ]
    }
   ],
   "source": [
    "a=100\n",
    "b=75\n",
    "ans=a-b\n",
    "if(ans>25):\n",
    "    print(\"THE RESULT AFTER MULTIPLICATION\",a*b,ans)\n",
    "else:\n",
    "    print(\"THE RESULT IS AFTER DIVISION\",a/b,ans)\n",
    "    \n",
    "\n",
    "    "
   ]
  },
  {
   "cell_type": "markdown",
   "metadata": {},
   "source": [
    "# QUESTION NUMBER 4"
   ]
  },
  {
   "cell_type": "code",
   "execution_count": 26,
   "metadata": {},
   "outputs": [
    {
     "name": "stdout",
     "output_type": "stream",
     "text": [
      "the result is 2\n",
      "the result is 254\n",
      "the result is 674\n",
      "the result is 482\n",
      "the result is 98\n",
      "the result is 322\n",
      "the result is 9602\n"
     ]
    }
   ],
   "source": [
    "l=[2,13,15,16,26,22,11,10,18,98]\n",
    "for i in l:\n",
    "    if(i%2==0):\n",
    "        print(\"the result is\",i**2-2)\n",
    "        \n",
    "        "
   ]
  },
  {
   "cell_type": "markdown",
   "metadata": {},
   "source": [
    "# QUESTION NUMBER 5"
   ]
  },
  {
   "cell_type": "code",
   "execution_count": 28,
   "metadata": {},
   "outputs": [
    {
     "name": "stdout",
     "output_type": "stream",
     "text": [
      "YOU HAVE PASSED THE TEST Mr. 34\n",
      "YOU HAVE PASSED THE TEST Mr. 28\n",
      "YOU HAVE PASSED THE TEST Mr. 128\n",
      "YOU HAVE PASSED THE TEST Mr. 144\n",
      "YOU HAVE PASSED THE TEST Mr. 33\n"
     ]
    }
   ],
   "source": [
    "l2=[34,7,14,28,3,128,144,13,4,33]\n",
    "for i in l2:\n",
    "    if((i/2)>7):\n",
    "        print(\"YOU HAVE PASSED THE TEST Mr.\",i)"
   ]
  },
  {
   "cell_type": "code",
   "execution_count": null,
   "metadata": {},
   "outputs": [],
   "source": []
  }
 ],
 "metadata": {
  "kernelspec": {
   "display_name": "Python 3",
   "language": "python",
   "name": "python3"
  },
  "language_info": {
   "codemirror_mode": {
    "name": "ipython",
    "version": 3
   },
   "file_extension": ".py",
   "mimetype": "text/x-python",
   "name": "python",
   "nbconvert_exporter": "python",
   "pygments_lexer": "ipython3",
   "version": "3.7.6"
  },
  "toc": {
   "base_numbering": 1,
   "nav_menu": {},
   "number_sections": true,
   "sideBar": true,
   "skip_h1_title": false,
   "title_cell": "Table of Contents",
   "title_sidebar": "Contents",
   "toc_cell": false,
   "toc_position": {},
   "toc_section_display": true,
   "toc_window_display": true
  }
 },
 "nbformat": 4,
 "nbformat_minor": 4
}
